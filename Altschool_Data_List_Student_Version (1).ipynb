{
 "cells": [
  {
   "cell_type": "markdown",
   "id": "56a02072",
   "metadata": {},
   "source": [
    "### Assignment "
   ]
  },
  {
   "cell_type": "code",
   "execution_count": 1,
   "id": "10fc31a8",
   "metadata": {},
   "outputs": [],
   "source": [
    "# Creating a list to store monthly sales data\n",
    "#monthly_sales = [120, 135, 150, 145, 155, 160, 170, 180, 190, 200, 210, 220]\n"
   ]
  },
  {
   "cell_type": "code",
   "execution_count": 2,
   "id": "0ce4b892",
   "metadata": {},
   "outputs": [],
   "source": [
    "# first quarter\n",
    "q1 = [120, 135, 150]"
   ]
  },
  {
   "cell_type": "code",
   "execution_count": 3,
   "id": "de06e413",
   "metadata": {},
   "outputs": [],
   "source": [
    "#second quarter\n",
    "q2 = [145, 155, 160]"
   ]
  },
  {
   "cell_type": "code",
   "execution_count": 4,
   "id": "b33f7587",
   "metadata": {},
   "outputs": [],
   "source": [
    "#third quarter\n",
    "q3 = [170, 180, 190]"
   ]
  },
  {
   "cell_type": "code",
   "execution_count": 5,
   "id": "cf7b6572",
   "metadata": {},
   "outputs": [],
   "source": [
    "# forth quarter\n",
    "q4 = [200, 210, 220]"
   ]
  },
  {
   "cell_type": "code",
   "execution_count": 6,
   "id": "1fc42cd3",
   "metadata": {},
   "outputs": [
    {
     "name": "stdout",
     "output_type": "stream",
     "text": [
      "135.0\n"
     ]
    }
   ],
   "source": [
    "#average sales in first quarter\n",
    "avg_q1 = sum(q1)/len(q1)\n",
    "print(avg_q1)\n"
   ]
  },
  {
   "cell_type": "code",
   "execution_count": 7,
   "id": "d3546fed",
   "metadata": {},
   "outputs": [
    {
     "name": "stdout",
     "output_type": "stream",
     "text": [
      "153.33333333333334\n"
     ]
    }
   ],
   "source": [
    "#average sales in second quarter\n",
    "avg_q2 = sum(q2)/len(q2)\n",
    "print(avg_q2)\n"
   ]
  },
  {
   "cell_type": "code",
   "execution_count": 8,
   "id": "4571f2b2",
   "metadata": {},
   "outputs": [
    {
     "name": "stdout",
     "output_type": "stream",
     "text": [
      "180.0\n"
     ]
    }
   ],
   "source": [
    "#average sales in third quarter\n",
    "avg_q3 = sum(q3)/len(q3)\n",
    "print(avg_q3)"
   ]
  },
  {
   "cell_type": "code",
   "execution_count": 9,
   "id": "b88c1525",
   "metadata": {},
   "outputs": [
    {
     "name": "stdout",
     "output_type": "stream",
     "text": [
      "135.0\n"
     ]
    }
   ],
   "source": [
    "#average sales in forth quarter\n",
    "avg_q4 = sum(q1)/len(q4)\n",
    "print(avg_q4)\n"
   ]
  },
  {
   "cell_type": "markdown",
   "id": "0b79960e",
   "metadata": {},
   "source": [
    "# Report on quarters with the highest sales\n",
    "\n",
    "### Third Quarter with 180.0 has the highest sales\n",
    "\n",
    "### first quarter and forth quarter have the lowest sales respectively"
   ]
  },
  {
   "cell_type": "markdown",
   "id": "f8e1754c",
   "metadata": {},
   "source": [
    "# 2 Store the names of a few of your friends in a list called names. \n",
    "\n",
    "### - Print each person’s name by accessing each element in the list, one at a time.\n",
    "\n",
    "### - Start with the list you created, but instead of just printing each person’s name, print a message to them. The text of each message should be the same, but each message should be personalized with the person’s name. hint(use may use f-strings)"
   ]
  },
  {
   "cell_type": "code",
   "execution_count": 10,
   "id": "1cc98d99",
   "metadata": {},
   "outputs": [],
   "source": [
    "lst = ['hans','jedi','yinks','monne']"
   ]
  },
  {
   "cell_type": "code",
   "execution_count": 11,
   "id": "56e1a212",
   "metadata": {},
   "outputs": [
    {
     "data": {
      "text/plain": [
       "'hans'"
      ]
     },
     "execution_count": 11,
     "metadata": {},
     "output_type": "execute_result"
    }
   ],
   "source": [
    "lst[0]"
   ]
  },
  {
   "cell_type": "code",
   "execution_count": 12,
   "id": "bc04c016",
   "metadata": {},
   "outputs": [
    {
     "data": {
      "text/plain": [
       "'jedi'"
      ]
     },
     "execution_count": 12,
     "metadata": {},
     "output_type": "execute_result"
    }
   ],
   "source": [
    "lst[1]"
   ]
  },
  {
   "cell_type": "code",
   "execution_count": 13,
   "id": "8bb77932",
   "metadata": {},
   "outputs": [
    {
     "data": {
      "text/plain": [
       "'yinks'"
      ]
     },
     "execution_count": 13,
     "metadata": {},
     "output_type": "execute_result"
    }
   ],
   "source": [
    "lst[2]"
   ]
  },
  {
   "cell_type": "code",
   "execution_count": 14,
   "id": "26f1f3b3",
   "metadata": {},
   "outputs": [
    {
     "data": {
      "text/plain": [
       "'monne'"
      ]
     },
     "execution_count": 14,
     "metadata": {},
     "output_type": "execute_result"
    }
   ],
   "source": [
    "lst[3]"
   ]
  },
  {
   "cell_type": "code",
   "execution_count": 15,
   "id": "7097c850",
   "metadata": {},
   "outputs": [
    {
     "name": "stdout",
     "output_type": "stream",
     "text": [
      "hans\n",
      "hello hans!\n"
     ]
    }
   ],
   "source": [
    "lst1 = lst[0]\n",
    "print(lst1)\n",
    "print(f'hello {lst1}!')"
   ]
  },
  {
   "cell_type": "code",
   "execution_count": 16,
   "id": "1c0b951f",
   "metadata": {},
   "outputs": [
    {
     "name": "stdout",
     "output_type": "stream",
     "text": [
      "jedi\n",
      "how is it going jedi\n"
     ]
    }
   ],
   "source": [
    "lst2 = lst[1]\n",
    "print(lst2)\n",
    "print(f'how is it going {lst2}')"
   ]
  },
  {
   "cell_type": "code",
   "execution_count": 17,
   "id": "1affbbaf",
   "metadata": {},
   "outputs": [
    {
     "name": "stdout",
     "output_type": "stream",
     "text": [
      "yinks\n",
      "what is good yinks\n"
     ]
    }
   ],
   "source": [
    "lst3 = lst[2]\n",
    "print(lst3)\n",
    "print(f'what is good {lst3}')"
   ]
  },
  {
   "cell_type": "code",
   "execution_count": 18,
   "id": "0af1c9f0",
   "metadata": {},
   "outputs": [
    {
     "name": "stdout",
     "output_type": "stream",
     "text": [
      "monne\n",
      "how is it going monne\n"
     ]
    }
   ],
   "source": [
    "lst4 = lst[3]\n",
    "print(lst4)\n",
    "print(f'how is it going {lst4}')"
   ]
  },
  {
   "cell_type": "markdown",
   "id": "aaabe10c",
   "metadata": {},
   "source": [
    "# 3. You are managing a list of students' names in your class. \n",
    "\n",
    "### * Create a list called student_names containing the following student names as strings: 'Alice', 'Bob', 'Charlie', 'David', 'Eve'.\n",
    "\n",
    "### - Use the student_names list from the list above for the following operations:\n",
    "\n",
    "###  - a. Print the number of students in the class (the length of the list).\n",
    "\n",
    "###  - b. Print the first and last student names in the list.\n",
    "\n",
    "###  - c. Charlie has left the class. Remove his name from the list.\n",
    "\n",
    "###  - d. A new student, \"Frank,\" has joined the class. Add his name to the list.\n",
    "\n",
    " ### - e. The class has been dissolved, and you need to remove all student names from the list."
   ]
  },
  {
   "cell_type": "code",
   "execution_count": 19,
   "id": "4f21876f",
   "metadata": {},
   "outputs": [],
   "source": [
    "student_names = ['Alice', 'Bob', 'Charlie', 'David', 'Eve']"
   ]
  },
  {
   "cell_type": "code",
   "execution_count": 20,
   "id": "cea0a22b",
   "metadata": {},
   "outputs": [
    {
     "name": "stdout",
     "output_type": "stream",
     "text": [
      "5\n"
     ]
    }
   ],
   "source": [
    "# student size\n",
    "student_size = len(student_names)\n",
    "print(student_size)"
   ]
  },
  {
   "cell_type": "code",
   "execution_count": 21,
   "id": "e09fdf21",
   "metadata": {},
   "outputs": [
    {
     "name": "stdout",
     "output_type": "stream",
     "text": [
      "['Alice', 'Eve']\n"
     ]
    }
   ],
   "source": [
    "# first and last student\n",
    "student_steps = student_names[0::4]\n",
    "print(student_steps)"
   ]
  },
  {
   "cell_type": "code",
   "execution_count": 22,
   "id": "26c5652d",
   "metadata": {},
   "outputs": [
    {
     "name": "stdout",
     "output_type": "stream",
     "text": [
      "First index: Alice\n",
      "Last index: Eve\n"
     ]
    }
   ],
   "source": [
    "# Get the first and last indices\n",
    "first_index = student_names[0]\n",
    "last_index = student_names[-1]\n",
    "\n",
    "# Print the first and last indices\n",
    "print(f'First index: {first_index}')\n",
    "print(f'Last index: {last_index}')"
   ]
  },
  {
   "cell_type": "code",
   "execution_count": 23,
   "id": "b3f51c45",
   "metadata": {},
   "outputs": [
    {
     "name": "stdout",
     "output_type": "stream",
     "text": [
      "Alice\n",
      "Eve\n"
     ]
    }
   ],
   "source": [
    "print(f'{first_index}\\n{last_index}')\n"
   ]
  },
  {
   "cell_type": "code",
   "execution_count": 24,
   "id": "076d100d",
   "metadata": {},
   "outputs": [
    {
     "data": {
      "text/plain": [
       "['Alice', 'Bob', 'Charlie', 'David', 'Eve']"
      ]
     },
     "execution_count": 24,
     "metadata": {},
     "output_type": "execute_result"
    }
   ],
   "source": [
    "student_names"
   ]
  },
  {
   "cell_type": "code",
   "execution_count": 25,
   "id": "9c30ef27",
   "metadata": {},
   "outputs": [
    {
     "name": "stdout",
     "output_type": "stream",
     "text": [
      "['Alice', 'Bob', 'David', 'Eve']\n"
     ]
    }
   ],
   "source": [
    "student_names.remove('Charlie')\n",
    "# Print the updated list\n",
    "print(student_names)"
   ]
  },
  {
   "cell_type": "code",
   "execution_count": 26,
   "id": "b5ef8f94",
   "metadata": {},
   "outputs": [
    {
     "data": {
      "text/plain": [
       "False"
      ]
     },
     "execution_count": 26,
     "metadata": {},
     "output_type": "execute_result"
    }
   ],
   "source": [
    "'Charlie' in student_names"
   ]
  },
  {
   "cell_type": "code",
   "execution_count": 27,
   "id": "46d7f827",
   "metadata": {},
   "outputs": [
    {
     "name": "stdout",
     "output_type": "stream",
     "text": [
      "['Alice', 'Bob', 'David', 'Eve']\n"
     ]
    }
   ],
   "source": [
    "print(student_names)"
   ]
  },
  {
   "cell_type": "code",
   "execution_count": 28,
   "id": "fcac7143",
   "metadata": {},
   "outputs": [],
   "source": [
    "student_names.append('Frank')"
   ]
  },
  {
   "cell_type": "code",
   "execution_count": 29,
   "id": "be862c91",
   "metadata": {},
   "outputs": [
    {
     "data": {
      "text/plain": [
       "['Alice', 'Bob', 'David', 'Eve', 'Frank']"
      ]
     },
     "execution_count": 29,
     "metadata": {},
     "output_type": "execute_result"
    }
   ],
   "source": [
    "student_names"
   ]
  },
  {
   "cell_type": "code",
   "execution_count": 30,
   "id": "589c955a",
   "metadata": {},
   "outputs": [],
   "source": [
    "student_names.clear()"
   ]
  },
  {
   "cell_type": "code",
   "execution_count": 31,
   "id": "b0d29f19",
   "metadata": {},
   "outputs": [
    {
     "data": {
      "text/plain": [
       "[]"
      ]
     },
     "execution_count": 31,
     "metadata": {},
     "output_type": "execute_result"
    }
   ],
   "source": [
    "student_names"
   ]
  },
  {
   "cell_type": "code",
   "execution_count": null,
   "id": "498bff5b",
   "metadata": {},
   "outputs": [],
   "source": []
  }
 ],
 "metadata": {
  "kernelspec": {
   "display_name": "Python 3 (ipykernel)",
   "language": "python",
   "name": "python3"
  },
  "language_info": {
   "codemirror_mode": {
    "name": "ipython",
    "version": 3
   },
   "file_extension": ".py",
   "mimetype": "text/x-python",
   "name": "python",
   "nbconvert_exporter": "python",
   "pygments_lexer": "ipython3",
   "version": "3.9.13"
  }
 },
 "nbformat": 4,
 "nbformat_minor": 5
}
